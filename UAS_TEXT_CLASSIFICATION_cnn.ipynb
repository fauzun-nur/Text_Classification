{
  "metadata": {
    "kernelspec": {
      "language": "python",
      "display_name": "Python 3",
      "name": "python3"
    },
    "language_info": {
      "name": "python",
      "version": "3.7.12",
      "mimetype": "text/x-python",
      "codemirror_mode": {
        "name": "ipython",
        "version": 3
      },
      "pygments_lexer": "ipython3",
      "nbconvert_exporter": "python",
      "file_extension": ".py"
    },
    "colab": {
      "provenance": []
    }
  },
  "nbformat_minor": 0,
  "nbformat": 4,
  "cells": [
    {
      "cell_type": "markdown",
      "source": [
        "# **5 Classses Text Classification on Movies Reviews 63% cnn**\n",
        "\n",
        "![download (1).jpg](attachment:83ef20c4-1864-460b-84d8-2b46e85057fc.jpg)\n",
        "\n",
        "1. Download and Imports\n",
        "2. Functions\n",
        "3. Loading Dataset (Movie Reviews)\n",
        "4. Shuffeling and splitting the Data\n",
        "5. Preprocessing and Tokenization\n",
        "6. Dataset Visualization\n",
        "7. Sequence Normalization and Encoding Labels\n",
        "8. Model Preparation and Training\n",
        "9. Visualizing and Evaluating the Results\n",
        "10. Saving the model"
      ],
      "metadata": {
        "id": "HUs3lZgcn344"
      }
    },
    {
      "cell_type": "markdown",
      "source": [
        "# 1. Download and Imports"
      ],
      "metadata": {
        "id": "SrpRdYwLn348"
      }
    },
    {
      "cell_type": "code",
      "source": [
        "!pip install contractions\n",
        "!pip install textsearch\n",
        "!pip install tqdm\n",
        "import nltk\n",
        "nltk.download('punkt')"
      ],
      "metadata": {
        "_uuid": "8f2839f25d086af736a60e9eeb907d3b93b6e0e5",
        "_cell_guid": "b1076dfc-b9ad-4769-8c92-a6c4dae69d19",
        "execution": {
          "iopub.status.busy": "2023-04-07T11:02:36.261528Z",
          "iopub.execute_input": "2023-04-07T11:02:36.262086Z",
          "iopub.status.idle": "2023-04-07T11:03:07.176331Z",
          "shell.execute_reply.started": "2023-04-07T11:02:36.261978Z",
          "shell.execute_reply": "2023-04-07T11:03:07.175240Z"
        },
        "trusted": true,
        "colab": {
          "base_uri": "https://localhost:8080/"
        },
        "id": "tZKXLGPtn348",
        "outputId": "fda1382a-d2ab-4502-b219-aa2b10c994c4"
      },
      "execution_count": null,
      "outputs": [
        {
          "output_type": "stream",
          "name": "stdout",
          "text": [
            "Collecting contractions\n",
            "  Downloading contractions-0.1.73-py2.py3-none-any.whl (8.7 kB)\n",
            "Collecting textsearch>=0.0.21 (from contractions)\n",
            "  Downloading textsearch-0.0.24-py2.py3-none-any.whl (7.6 kB)\n",
            "Collecting anyascii (from textsearch>=0.0.21->contractions)\n",
            "  Downloading anyascii-0.3.2-py3-none-any.whl (289 kB)\n",
            "\u001b[2K     \u001b[90m━━━━━━━━━━━━━━━━━━━━━━━━━━━━━━━━━━━━━━━━\u001b[0m \u001b[32m289.9/289.9 kB\u001b[0m \u001b[31m5.9 MB/s\u001b[0m eta \u001b[36m0:00:00\u001b[0m\n",
            "\u001b[?25hCollecting pyahocorasick (from textsearch>=0.0.21->contractions)\n",
            "  Downloading pyahocorasick-2.1.0-cp310-cp310-manylinux_2_5_x86_64.manylinux1_x86_64.manylinux_2_12_x86_64.manylinux2010_x86_64.whl (110 kB)\n",
            "\u001b[2K     \u001b[90m━━━━━━━━━━━━━━━━━━━━━━━━━━━━━━━━━━━━━━━━\u001b[0m \u001b[32m110.7/110.7 kB\u001b[0m \u001b[31m12.2 MB/s\u001b[0m eta \u001b[36m0:00:00\u001b[0m\n",
            "\u001b[?25hInstalling collected packages: pyahocorasick, anyascii, textsearch, contractions\n",
            "Successfully installed anyascii-0.3.2 contractions-0.1.73 pyahocorasick-2.1.0 textsearch-0.0.24\n",
            "Requirement already satisfied: textsearch in /usr/local/lib/python3.10/dist-packages (0.0.24)\n",
            "Requirement already satisfied: anyascii in /usr/local/lib/python3.10/dist-packages (from textsearch) (0.3.2)\n",
            "Requirement already satisfied: pyahocorasick in /usr/local/lib/python3.10/dist-packages (from textsearch) (2.1.0)\n",
            "Requirement already satisfied: tqdm in /usr/local/lib/python3.10/dist-packages (4.66.4)\n"
          ]
        },
        {
          "output_type": "stream",
          "name": "stderr",
          "text": [
            "[nltk_data] Downloading package punkt to /root/nltk_data...\n",
            "[nltk_data]   Unzipping tokenizers/punkt.zip.\n"
          ]
        },
        {
          "output_type": "execute_result",
          "data": {
            "text/plain": [
              "True"
            ]
          },
          "metadata": {},
          "execution_count": 1
        }
      ]
    },
    {
      "cell_type": "code",
      "source": [
        "#Tensorflow and Keras and sklearn\n",
        "import tensorflow as tf\n",
        "import pandas as pd\n",
        "import numpy as np\n",
        "from tensorflow.keras.models import Sequential\n",
        "from tensorflow.keras.layers import Dense\n",
        "from tensorflow.keras.layers import Dropout\n",
        "from tensorflow.keras.layers import Flatten\n",
        "from tensorflow.keras.layers import Conv1D\n",
        "from tensorflow.keras.layers import MaxPooling1D\n",
        "from tensorflow.keras.layers import Embedding\n",
        "from tensorflow.keras.preprocessing.text import Tokenizer\n",
        "from tensorflow.keras.preprocessing import sequence\n",
        "from sklearn.preprocessing import LabelEncoder\n",
        "\n",
        "#Charts\n",
        "from sklearn import metrics\n",
        "from sklearn.metrics import f1_score, accuracy_score,confusion_matrix,classification_report\n",
        "import matplotlib.pyplot as plt\n",
        "import seaborn as sns\n",
        "\n",
        "# Time\n",
        "import time\n",
        "import datetime\n",
        "\n",
        "#Performance Plot\n",
        "import contractions\n",
        "from bs4 import BeautifulSoup\n",
        "import numpy as np\n",
        "import re\n",
        "import tqdm\n",
        "import unicodedata\n",
        "\n",
        "%matplotlib inline\n",
        "\n",
        "# fix random seed for reproducibility\n",
        "seed = 3541\n",
        "np.random.seed(seed)"
      ],
      "metadata": {
        "execution": {
          "iopub.status.busy": "2023-04-07T11:03:07.178452Z",
          "iopub.execute_input": "2023-04-07T11:03:07.178830Z",
          "iopub.status.idle": "2023-04-07T11:03:12.505993Z",
          "shell.execute_reply.started": "2023-04-07T11:03:07.178794Z",
          "shell.execute_reply": "2023-04-07T11:03:12.505045Z"
        },
        "trusted": true,
        "id": "pI3bAfhWn349"
      },
      "execution_count": null,
      "outputs": []
    },
    {
      "cell_type": "markdown",
      "source": [
        "# 2. Functions"
      ],
      "metadata": {
        "id": "GWvj4KD2n34-"
      }
    },
    {
      "cell_type": "code",
      "source": [
        "# date_time function\n",
        "\n",
        "def date_time(x):\n",
        "    if x==1:\n",
        "        return 'Timestamp: {:%Y-%m-%d %H:%M:%S}'.format(datetime.datetime.now())\n",
        "    if x==2:\n",
        "        return 'Timestamp: {:%Y-%b-%d %H:%M:%S}'.format(datetime.datetime.now())\n",
        "    if x==3:\n",
        "        return 'Date now: %s' % datetime.datetime.now()\n",
        "    if x==4:\n",
        "        return 'Date today: %s' % datetime.date.today()"
      ],
      "metadata": {
        "execution": {
          "iopub.status.busy": "2023-04-07T11:03:12.507296Z",
          "iopub.execute_input": "2023-04-07T11:03:12.508245Z",
          "iopub.status.idle": "2023-04-07T11:03:12.515563Z",
          "shell.execute_reply.started": "2023-04-07T11:03:12.508208Z",
          "shell.execute_reply": "2023-04-07T11:03:12.514601Z"
        },
        "trusted": true,
        "id": "8z0MG5y3n34-"
      },
      "execution_count": null,
      "outputs": []
    },
    {
      "cell_type": "code",
      "source": [
        "# Performance Plot\n",
        "\n",
        "def plot_performance(history=None, figure_directory=None, ylim_pad=[0, 0]):\n",
        "    xlabel = 'Epoch'\n",
        "    legends = ['Training', 'Validation']\n",
        "\n",
        "    plt.figure(figsize=(20, 5))\n",
        "\n",
        "    y1 = history.history['accuracy']\n",
        "    y2 = history.history['val_accuracy']\n",
        "\n",
        "    min_y = min(min(y1), min(y2))-ylim_pad[0]\n",
        "    max_y = max(max(y1), max(y2))+ylim_pad[0]\n",
        "\n",
        "\n",
        "    plt.subplot(121)\n",
        "\n",
        "    plt.plot(y1)\n",
        "    plt.plot(y2)\n",
        "\n",
        "    plt.title('Model Accuracy\\n'+date_time(1), fontsize=17)\n",
        "    plt.xlabel(xlabel, fontsize=15)\n",
        "    plt.ylabel('Accuracy', fontsize=15)\n",
        "    plt.ylim(min_y, max_y)\n",
        "    plt.legend(legends, loc='upper left')\n",
        "    plt.grid()\n",
        "\n",
        "    y1 = history.history['loss']\n",
        "    y2 = history.history['val_loss']\n",
        "\n",
        "    min_y = min(min(y1), min(y2))-ylim_pad[1]\n",
        "    max_y = max(max(y1), max(y2))+ylim_pad[1]\n",
        "\n",
        "\n",
        "    plt.subplot(122)\n",
        "\n",
        "    plt.plot(y1)\n",
        "    plt.plot(y2)\n",
        "\n",
        "    plt.title('Model Loss\\n'+date_time(1), fontsize=17)\n",
        "    plt.xlabel(xlabel, fontsize=15)\n",
        "    plt.ylabel('Loss', fontsize=15)\n",
        "    plt.ylim(min_y, max_y)\n",
        "    plt.legend(legends, loc='upper left')\n",
        "    plt.grid()\n",
        "    if figure_directory:\n",
        "        plt.savefig(figure_directory+\"/history\")\n",
        "\n",
        "    plt.show()"
      ],
      "metadata": {
        "execution": {
          "iopub.status.busy": "2023-04-07T11:03:12.519332Z",
          "iopub.execute_input": "2023-04-07T11:03:12.519740Z",
          "iopub.status.idle": "2023-04-07T11:03:12.531561Z",
          "shell.execute_reply.started": "2023-04-07T11:03:12.519705Z",
          "shell.execute_reply": "2023-04-07T11:03:12.530676Z"
        },
        "trusted": true,
        "id": "m3v7Y1kHn34_"
      },
      "execution_count": null,
      "outputs": []
    },
    {
      "cell_type": "code",
      "source": [
        "# Pre-Processing Function\n",
        "\n",
        "def strip_html_tags(text):\n",
        "  soup = BeautifulSoup(text, \"html.parser\")\n",
        "  [s.extract() for s in soup(['iframe', 'script'])]\n",
        "  stripped_text = soup.get_text()\n",
        "  stripped_text = re.sub(r'[\\r|\\n|\\r\\n]+', '\\n', stripped_text)\n",
        "  return stripped_text\n",
        "\n",
        "def remove_accented_chars(text):\n",
        "  text = unicodedata.normalize('NFKD', text).encode('ascii', 'ignore').decode('utf-8', 'ignore')\n",
        "  return text\n",
        "\n",
        "def pre_process_corpus(docs):\n",
        "  norm_docs = []\n",
        "  for doc in tqdm.tqdm(docs):\n",
        "    doc = strip_html_tags(doc)\n",
        "    doc = doc.translate(doc.maketrans(\"\\n\\t\\r\", \"   \"))\n",
        "    doc = doc.lower()\n",
        "    doc = remove_accented_chars(doc)\n",
        "    doc = contractions.fix(doc)\n",
        "    # lower case and remove special characters\\whitespaces\n",
        "    doc = re.sub(r'[^a-zA-Z0-9\\s]', '', doc, re.I|re.A)\n",
        "    doc = re.sub(' +', ' ', doc)\n",
        "    doc = doc.strip()\n",
        "    norm_docs.append(doc)\n",
        "\n",
        "  return norm_docs"
      ],
      "metadata": {
        "execution": {
          "iopub.status.busy": "2023-04-07T11:03:12.532828Z",
          "iopub.execute_input": "2023-04-07T11:03:12.533531Z",
          "iopub.status.idle": "2023-04-07T11:03:12.545865Z",
          "shell.execute_reply.started": "2023-04-07T11:03:12.533497Z",
          "shell.execute_reply": "2023-04-07T11:03:12.544945Z"
        },
        "trusted": true,
        "id": "lEqT16Lin34_"
      },
      "execution_count": null,
      "outputs": []
    },
    {
      "cell_type": "markdown",
      "source": [
        "# 3. Loading Dataset (Movie Reviews)"
      ],
      "metadata": {
        "id": "tlgtQHHFn35A"
      }
    },
    {
      "cell_type": "code",
      "source": [
        "#Reading DAtaset from csv files to Pandas dataframes\n",
        "\n",
        "dataset_train = pd.read_csv('/content/train.csv')\n",
        "dataset_test = pd.read_csv('/content/test.csv')"
      ],
      "metadata": {
        "execution": {
          "iopub.status.busy": "2023-04-07T11:03:12.548971Z",
          "iopub.execute_input": "2023-04-07T11:03:12.549259Z",
          "iopub.status.idle": "2023-04-07T11:03:12.747132Z",
          "shell.execute_reply.started": "2023-04-07T11:03:12.549230Z",
          "shell.execute_reply": "2023-04-07T11:03:12.746166Z"
        },
        "trusted": true,
        "id": "isuz8WA9n35A"
      },
      "execution_count": null,
      "outputs": []
    },
    {
      "cell_type": "markdown",
      "source": [
        "# 4. Shuffeling and splitting the Data"
      ],
      "metadata": {
        "id": "r-af_Dtmn35A"
      }
    },
    {
      "cell_type": "code",
      "source": [
        "# Shuffling Data\n",
        "\n",
        "train = dataset_train.sample(frac=1)\n",
        "test = dataset_test.sample(frac=1)\n",
        "\n",
        "# Taking only a small peice of the dataset to avoid long training time\n",
        "\n",
        "test = dataset_test.iloc[:25000,:]\n",
        "val = dataset_train.iloc[:50000,:]\n",
        "train = dataset_train.iloc[50000:,:]\n",
        "train = dataset_train.iloc[:100000,:]\n",
        "\n",
        "# Splitting data to train and validation sets manually, only including neccessary columns\n",
        "\n",
        "X_train = train['review_text'].values\n",
        "y_train = train['class_index'].values\n",
        "\n",
        "X_val = val['review_text'].values\n",
        "y_val = val['class_index'].values\n",
        "\n",
        "X_test = test['review_text'].values\n",
        "y_test = test['class_index'].values"
      ],
      "metadata": {
        "execution": {
          "iopub.status.busy": "2023-04-07T11:03:12.748433Z",
          "iopub.execute_input": "2023-04-07T11:03:12.748807Z",
          "iopub.status.idle": "2023-04-07T11:03:12.779006Z",
          "shell.execute_reply.started": "2023-04-07T11:03:12.748774Z",
          "shell.execute_reply": "2023-04-07T11:03:12.778117Z"
        },
        "trusted": true,
        "id": "pkBmjUT7n35A"
      },
      "execution_count": null,
      "outputs": []
    },
    {
      "cell_type": "markdown",
      "source": [
        "# 5. Preprocessing and Tokenization\n",
        "\n",
        "To prepare text data for our deep learning model, we transform each review into a sequence.\n",
        "Every word in the review is mapped to an integer index and thus the sentence turns into a sequence of numbers."
      ],
      "metadata": {
        "id": "r3dipC6zn35B"
      }
    },
    {
      "cell_type": "code",
      "source": [
        "%%time\n",
        "#Pre-processing the Data (the Reviews)\n",
        "\n",
        "X_train = pre_process_corpus(X_train)\n",
        "X_val = pre_process_corpus(X_val)\n",
        "X_test = pre_process_corpus(X_test)"
      ],
      "metadata": {
        "execution": {
          "iopub.status.busy": "2023-04-07T11:03:12.780499Z",
          "iopub.execute_input": "2023-04-07T11:03:12.781362Z",
          "iopub.status.idle": "2023-04-07T11:03:30.548701Z",
          "shell.execute_reply.started": "2023-04-07T11:03:12.781314Z",
          "shell.execute_reply": "2023-04-07T11:03:30.547623Z"
        },
        "trusted": true,
        "colab": {
          "base_uri": "https://localhost:8080/"
        },
        "id": "uk6Gg6WCn35B",
        "outputId": "3b388f22-3f37-4331-9c45-a03bc7ae6ad1"
      },
      "execution_count": null,
      "outputs": [
        {
          "output_type": "stream",
          "name": "stderr",
          "text": [
            "  0%|          | 0/100000 [00:00<?, ?it/s]<ipython-input-5-0a1d55b11721>:4: MarkupResemblesLocatorWarning: The input looks more like a filename than markup. You may want to open this file and pass the filehandle into Beautiful Soup.\n",
            "  soup = BeautifulSoup(text, \"html.parser\")\n",
            "100%|██████████| 100000/100000 [00:10<00:00, 9971.25it/s]\n",
            "100%|██████████| 50000/50000 [00:06<00:00, 8206.19it/s] \n",
            "100%|██████████| 25000/25000 [00:02<00:00, 10506.32it/s]"
          ]
        },
        {
          "output_type": "stream",
          "name": "stdout",
          "text": [
            "CPU times: user 17.9 s, sys: 131 ms, total: 18.1 s\n",
            "Wall time: 18.5 s\n"
          ]
        },
        {
          "output_type": "stream",
          "name": "stderr",
          "text": [
            "\n"
          ]
        }
      ]
    },
    {
      "cell_type": "markdown",
      "source": [
        "After Pre-processing it's time for tokenazation,To perform this transformation, keras provides the ```Tokenizer```"
      ],
      "metadata": {
        "id": "xt7Q-NjAn35B"
      }
    },
    {
      "cell_type": "code",
      "source": [
        "# Tokenazing the Data (the Reviews)\n",
        "\n",
        "t = Tokenizer(oov_token='<UNK>')\n",
        "# fit the tokenizer on train documents\n",
        "t.fit_on_texts(X_train)\n",
        "t.word_index['<PAD>'] = 0"
      ],
      "metadata": {
        "execution": {
          "iopub.status.busy": "2023-04-07T11:03:30.552780Z",
          "iopub.execute_input": "2023-04-07T11:03:30.553158Z",
          "iopub.status.idle": "2023-04-07T11:03:32.220537Z",
          "shell.execute_reply.started": "2023-04-07T11:03:30.553120Z",
          "shell.execute_reply": "2023-04-07T11:03:32.219320Z"
        },
        "trusted": true,
        "id": "JU8gmE-zn35B"
      },
      "execution_count": null,
      "outputs": []
    },
    {
      "cell_type": "code",
      "source": [
        "# Transforming Reviews to Sequences\n",
        "\n",
        "X_train = t.texts_to_sequences(X_train)\n",
        "X_test = t.texts_to_sequences(X_test)\n",
        "X_val = t.texts_to_sequences(X_val)"
      ],
      "metadata": {
        "execution": {
          "iopub.status.busy": "2023-04-07T11:03:32.227732Z",
          "iopub.execute_input": "2023-04-07T11:03:32.230400Z",
          "iopub.status.idle": "2023-04-07T11:03:34.246531Z",
          "shell.execute_reply.started": "2023-04-07T11:03:32.230359Z",
          "shell.execute_reply": "2023-04-07T11:03:34.245567Z"
        },
        "trusted": true,
        "id": "FpDF-82rn35B"
      },
      "execution_count": null,
      "outputs": []
    },
    {
      "cell_type": "markdown",
      "source": [
        "# 6. Dataset Visualization"
      ],
      "metadata": {
        "id": "XCzWY4Qwn35C"
      }
    },
    {
      "cell_type": "code",
      "source": [
        "# Calculating the Vocabulary Size and the number of Reviews\n",
        "\n",
        "print(\"Vocabulary size={}\".format(len(t.word_index)))\n",
        "print(\"Number of Reviews={}\".format(t.document_count))"
      ],
      "metadata": {
        "execution": {
          "iopub.status.busy": "2023-04-07T11:03:34.248135Z",
          "iopub.execute_input": "2023-04-07T11:03:34.248513Z",
          "iopub.status.idle": "2023-04-07T11:03:34.255162Z",
          "shell.execute_reply.started": "2023-04-07T11:03:34.248475Z",
          "shell.execute_reply": "2023-04-07T11:03:34.254180Z"
        },
        "trusted": true,
        "colab": {
          "base_uri": "https://localhost:8080/"
        },
        "id": "0vXcbEpFn35C",
        "outputId": "a4a73fb9-c7df-46dd-a6ad-a745bb48cdab"
      },
      "execution_count": null,
      "outputs": [
        {
          "output_type": "stream",
          "name": "stdout",
          "text": [
            "Vocabulary size=16256\n",
            "Number of Reviews=100000\n"
          ]
        }
      ]
    },
    {
      "cell_type": "code",
      "source": [
        "# Plotting the size of the sequences\n",
        "\n",
        "import matplotlib.pyplot as plt\n",
        "%matplotlib inline\n",
        "\n",
        "train_lens = [len(s) for s in X_train]\n",
        "test_lens = [len(s) for s in X_test]\n",
        "\n",
        "fig, ax = plt.subplots(1,2, figsize=(12, 6))\n",
        "h1 = ax[0].hist(train_lens)\n",
        "h2 = ax[1].hist(test_lens)"
      ],
      "metadata": {
        "execution": {
          "iopub.status.busy": "2023-04-07T11:03:34.256594Z",
          "iopub.execute_input": "2023-04-07T11:03:34.257593Z",
          "iopub.status.idle": "2023-04-07T11:03:34.937461Z",
          "shell.execute_reply.started": "2023-04-07T11:03:34.257557Z",
          "shell.execute_reply": "2023-04-07T11:03:34.936494Z"
        },
        "trusted": true,
        "colab": {
          "base_uri": "https://localhost:8080/",
          "height": 491
        },
        "id": "VcfFnWtHn35C",
        "outputId": "b001c6b6-1d1d-4f28-c89d-9d2ef0282c05"
      },
      "execution_count": null,
      "outputs": [
        {
          "output_type": "display_data",
          "data": {
            "text/plain": [
              "<Figure size 1200x600 with 2 Axes>"
            ],
            "image/png": "[encoded data removed]"
          },
          "metadata": {}
        }
      ]
    },
    {
      "cell_type": "markdown",
      "source": [
        "# 7. Sequence Normalization and Encoding Labels\n",
        "\n",
        "Not all reviews are of same length. To handle this difference in length of reviews, we define a maximum length.\n",
        "For reviews which are smaller than this length, we pad them with zeros which longer ones are truncated"
      ],
      "metadata": {
        "id": "IxJT72SBn35C"
      }
    },
    {
      "cell_type": "code",
      "source": [
        "# Padding the dataset to a maximum review length in words\n",
        "\n",
        "MAX_SEQUENCE_LENGTH = 40\n",
        "\n",
        "X_train = sequence.pad_sequences(X_train, maxlen=MAX_SEQUENCE_LENGTH)\n",
        "X_test = sequence.pad_sequences(X_test, maxlen=MAX_SEQUENCE_LENGTH)\n",
        "X_val = sequence.pad_sequences(X_val, maxlen=MAX_SEQUENCE_LENGTH)"
      ],
      "metadata": {
        "execution": {
          "iopub.status.busy": "2023-04-07T11:03:34.938739Z",
          "iopub.execute_input": "2023-04-07T11:03:34.939111Z",
          "iopub.status.idle": "2023-04-07T11:03:35.356563Z",
          "shell.execute_reply.started": "2023-04-07T11:03:34.939075Z",
          "shell.execute_reply": "2023-04-07T11:03:35.355478Z"
        },
        "trusted": true,
        "id": "InZH6beLn35C"
      },
      "execution_count": null,
      "outputs": []
    },
    {
      "cell_type": "markdown",
      "source": [
        "The dataset contains labels of the form positive/negative. The following step encodes the labels using ```sklearn's``` ```LabelEncoder```"
      ],
      "metadata": {
        "id": "t7jYLAT0n35D"
      }
    },
    {
      "cell_type": "code",
      "source": [
        "# Encoding Labels\n",
        "\n",
        "le = LabelEncoder()\n",
        "num_classes=5 # Very Bad -> -2, Bad -> -1, Neutral -> 0 , Good -> 1, Very Good -> 2\n",
        "\n",
        "y_train = le.fit_transform(y_train)\n",
        "y_test = le.transform(y_test)\n",
        "y_val = le.transform(y_val)"
      ],
      "metadata": {
        "execution": {
          "iopub.status.busy": "2023-04-07T11:03:35.358286Z",
          "iopub.execute_input": "2023-04-07T11:03:35.358692Z",
          "iopub.status.idle": "2023-04-07T11:03:35.370627Z",
          "shell.execute_reply.started": "2023-04-07T11:03:35.358654Z",
          "shell.execute_reply": "2023-04-07T11:03:35.369770Z"
        },
        "trusted": true,
        "id": "Rl6KlZyTn35D"
      },
      "execution_count": null,
      "outputs": []
    },
    {
      "cell_type": "markdown",
      "source": [
        "# 8. Model Preparation and Training\n",
        "\n",
        "Before preparing the model, we need to set some variables that will be needed later# Setting Vocabulary size and Emmbedding size"
      ],
      "metadata": {
        "id": "_uXy1uUOn35D"
      }
    },
    {
      "cell_type": "code",
      "source": [
        "# Setting Vocabulary size and Emmbedding size\n",
        "\n",
        "VOCAB_SIZE = len(t.word_index)\n",
        "EMBED_SIZE = 40\n",
        "\n",
        "# Setting an Early_stopping callback to monitor accuracy with a patience degree of 2\n",
        "\n",
        "callback = tf.keras.callbacks.EarlyStopping(monitor='accuracy', patience=2)"
      ],
      "metadata": {
        "execution": {
          "iopub.status.busy": "2023-04-07T11:03:35.372269Z",
          "iopub.execute_input": "2023-04-07T11:03:35.372636Z",
          "iopub.status.idle": "2023-04-07T11:03:35.377898Z",
          "shell.execute_reply.started": "2023-04-07T11:03:35.372602Z",
          "shell.execute_reply": "2023-04-07T11:03:35.376947Z"
        },
        "trusted": true,
        "id": "7JWjlWcen35D"
      },
      "execution_count": null,
      "outputs": []
    },
    {
      "cell_type": "markdown",
      "source": [
        "Since textual data is a sequence of words, we utilize ```1D``` convolutions to scan through the sentences.\n",
        "The model first transforms each word into lower dimensional embedding/vector space followed by 1d convolutions and then passing the data through dense layers before the final layer for classification"
      ],
      "metadata": {
        "id": "jhIwrVdHn35D"
      }
    },
    {
      "cell_type": "code",
      "source": [
        "# Creating the model\n",
        "\n",
        "model = Sequential()\n",
        "# The Embedding layer\n",
        "model.add(Embedding(VOCAB_SIZE, EMBED_SIZE, input_length=MAX_SEQUENCE_LENGTH))\n",
        "# The first one dimensional convolutional layer (32,4,same,relu)\n",
        "model.add(Conv1D(filters=32, kernel_size=4, padding='same', activation='relu'))\n",
        "model.add(Conv1D(filters=32, kernel_size=4, padding='same', activation='relu'))\n",
        "# The first Max pooling layer (2)\n",
        "model.add(MaxPooling1D(pool_size=2))\n",
        "# The first Dropout layer (10%)\n",
        "model.add(Dropout(rate=0.10))\n",
        "# The second one dimensional convolutional layer (32,4,same,relu)\n",
        "model.add(Conv1D(filters=64, kernel_size=4, padding='same', activation='relu'))\n",
        "model.add(Conv1D(filters=64, kernel_size=4, padding='same', activation='relu'))\n",
        "# The second Max pooling layer (2)\n",
        "model.add(MaxPooling1D(pool_size=2))\n",
        "# The second Dropout layer (10%)\n",
        "model.add(Dropout(rate=0.10))\n",
        "# The third one dimensional convolutional layer (32,4,same,relu)\n",
        "model.add(Conv1D(filters=64, kernel_size=4, padding='same', activation='relu'))\n",
        "model.add(Conv1D(filters=64, kernel_size=4, padding='same', activation='relu'))\n",
        "# The third Max pooling layer (2)\n",
        "model.add(MaxPooling1D(pool_size=2))\n",
        "# The third Dropout layer (10%)\n",
        "model.add(Dropout(rate=0.10))\n",
        "# The Flattening layer\n",
        "model.add(Flatten())\n",
        "# The First Dense Layer (256,relu)\n",
        "model.add(Dense(256, activation='relu'))\n",
        "# The Second Dense Layer or Prediction layer (1,sigmoid)\n",
        "model.add(Dense(5, activation='softmax'))\n",
        "# Compiling the Model using the Binary_Crossontropy as a loss function and accuracy as a meseaure and Adam as an Optimizer\n",
        "model.compile(loss='SparseCategoricalCrossentropy', optimizer=tf.keras.optimizers.Adam(1e-4), metrics=['accuracy'])\n",
        "# Displaying the Model Schema\n",
        "model.summary()"
      ],
      "metadata": {
        "execution": {
          "iopub.status.busy": "2023-04-07T11:03:35.379267Z",
          "iopub.execute_input": "2023-04-07T11:03:35.379851Z",
          "iopub.status.idle": "2023-04-07T11:03:38.307417Z",
          "shell.execute_reply.started": "2023-04-07T11:03:35.379816Z",
          "shell.execute_reply": "2023-04-07T11:03:38.306231Z"
        },
        "trusted": true,
        "colab": {
          "base_uri": "https://localhost:8080/"
        },
        "id": "6WB7l7Wtn35D",
        "outputId": "6270b9ae-74de-454f-c4b1-063e08de1e8c"
      },
      "execution_count": null,
      "outputs": [
        {
          "output_type": "stream",
          "name": "stdout",
          "text": [
            "Model: \"sequential\"\n",
            "_________________________________________________________________\n",
            " Layer (type)                Output Shape              Param #   \n",
            "=================================================================\n",
            " embedding (Embedding)       (None, 40, 40)            650240    \n",
            "                                                                 \n",
            " conv1d (Conv1D)             (None, 40, 32)            5152      \n",
            "                                                                 \n",
            " conv1d_1 (Conv1D)           (None, 40, 32)            4128      \n",
            "                                                                 \n",
            " max_pooling1d (MaxPooling1  (None, 20, 32)            0         \n",
            " D)                                                              \n",
            "                                                                 \n",
            " dropout (Dropout)           (None, 20, 32)            0         \n",
            "                                                                 \n",
            " conv1d_2 (Conv1D)           (None, 20, 64)            8256      \n",
            "                                                                 \n",
            " conv1d_3 (Conv1D)           (None, 20, 64)            16448     \n",
            "                                                                 \n",
            " max_pooling1d_1 (MaxPoolin  (None, 10, 64)            0         \n",
            " g1D)                                                            \n",
            "                                                                 \n",
            " dropout_1 (Dropout)         (None, 10, 64)            0         \n",
            "                                                                 \n",
            " conv1d_4 (Conv1D)           (None, 10, 64)            16448     \n",
            "                                                                 \n",
            " conv1d_5 (Conv1D)           (None, 10, 64)            16448     \n",
            "                                                                 \n",
            " max_pooling1d_2 (MaxPoolin  (None, 5, 64)             0         \n",
            " g1D)                                                            \n",
            "                                                                 \n",
            " dropout_2 (Dropout)         (None, 5, 64)             0         \n",
            "                                                                 \n",
            " flatten (Flatten)           (None, 320)               0         \n",
            "                                                                 \n",
            " dense (Dense)               (None, 256)               82176     \n",
            "                                                                 \n",
            " dense_1 (Dense)             (None, 5)                 1285      \n",
            "                                                                 \n",
            "=================================================================\n",
            "Total params: 800581 (3.05 MB)\n",
            "Trainable params: 800581 (3.05 MB)\n",
            "Non-trainable params: 0 (0.00 Byte)\n",
            "_________________________________________________________________\n"
          ]
        }
      ]
    },
    {
      "cell_type": "code",
      "source": [
        "# Training the Model with GPU\n",
        "with tf.device('/GPU:0'):\n",
        "    history1 = model.fit(X_train, y_train, validation_data=(X_val,y_val),epochs=30, batch_size=64, verbose=1, callbacks=[callback])"
      ],
      "metadata": {
        "execution": {
          "iopub.status.busy": "2023-04-07T11:03:38.308934Z",
          "iopub.execute_input": "2023-04-07T11:03:38.309276Z",
          "iopub.status.idle": "2023-04-07T11:08:33.346362Z",
          "shell.execute_reply.started": "2023-04-07T11:03:38.309249Z",
          "shell.execute_reply": "2023-04-07T11:08:33.345353Z"
        },
        "trusted": true,
        "colab": {
          "base_uri": "https://localhost:8080/"
        },
        "id": "lhNmREz_n35E",
        "outputId": "6a47fbc7-6f66-4251-a1fa-92e713aed90c"
      },
      "execution_count": null,
      "outputs": [
        {
          "output_type": "stream",
          "name": "stdout",
          "text": [
            "Epoch 1/30\n",
            "1563/1563 [==============================] - 76s 47ms/step - loss: 1.1306 - accuracy: 0.5631 - val_loss: 1.0035 - val_accuracy: 0.5960\n",
            "Epoch 2/30\n",
            "1563/1563 [==============================] - 62s 39ms/step - loss: 0.9826 - accuracy: 0.6102 - val_loss: 0.8972 - val_accuracy: 0.6422\n",
            "Epoch 3/30\n",
            "1563/1563 [==============================] - 70s 45ms/step - loss: 0.9018 - accuracy: 0.6427 - val_loss: 0.8257 - val_accuracy: 0.6734\n",
            "Epoch 4/30\n",
            "1563/1563 [==============================] - 67s 43ms/step - loss: 0.8414 - accuracy: 0.6697 - val_loss: 0.7696 - val_accuracy: 0.7034\n",
            "Epoch 5/30\n",
            "1563/1563 [==============================] - 62s 40ms/step - loss: 0.7863 - accuracy: 0.6944 - val_loss: 0.7113 - val_accuracy: 0.7262\n",
            "Epoch 6/30\n",
            "1563/1563 [==============================] - 71s 45ms/step - loss: 0.7352 - accuracy: 0.7132 - val_loss: 0.6573 - val_accuracy: 0.7437\n",
            "Epoch 7/30\n",
            "1563/1563 [==============================] - 63s 40ms/step - loss: 0.6883 - accuracy: 0.7268 - val_loss: 0.6171 - val_accuracy: 0.7600\n",
            "Epoch 8/30\n",
            "1563/1563 [==============================] - 60s 39ms/step - loss: 0.6474 - accuracy: 0.7411 - val_loss: 0.5723 - val_accuracy: 0.7687\n",
            "Epoch 9/30\n",
            "1563/1563 [==============================] - 64s 41ms/step - loss: 0.6126 - accuracy: 0.7514 - val_loss: 0.5355 - val_accuracy: 0.7853\n",
            "Epoch 10/30\n",
            "1563/1563 [==============================] - 59s 38ms/step - loss: 0.5800 - accuracy: 0.7635 - val_loss: 0.5099 - val_accuracy: 0.7929\n",
            "Epoch 11/30\n",
            "1563/1563 [==============================] - 66s 42ms/step - loss: 0.5503 - accuracy: 0.7741 - val_loss: 0.4699 - val_accuracy: 0.8111\n",
            "Epoch 12/30\n",
            "1563/1563 [==============================] - 59s 37ms/step - loss: 0.5245 - accuracy: 0.7837 - val_loss: 0.4556 - val_accuracy: 0.8172\n",
            "Epoch 13/30\n",
            "1563/1563 [==============================] - 59s 38ms/step - loss: 0.5030 - accuracy: 0.7928 - val_loss: 0.4312 - val_accuracy: 0.8298\n",
            "Epoch 14/30\n",
            "1563/1563 [==============================] - 58s 37ms/step - loss: 0.4806 - accuracy: 0.8037 - val_loss: 0.4095 - val_accuracy: 0.8353\n",
            "Epoch 15/30\n",
            "1563/1563 [==============================] - 65s 42ms/step - loss: 0.4617 - accuracy: 0.8124 - val_loss: 0.3858 - val_accuracy: 0.8497\n",
            "Epoch 16/30\n",
            "1563/1563 [==============================] - 58s 37ms/step - loss: 0.4408 - accuracy: 0.8218 - val_loss: 0.3703 - val_accuracy: 0.8613\n",
            "Epoch 17/30\n",
            "1563/1563 [==============================] - 59s 38ms/step - loss: 0.4269 - accuracy: 0.8288 - val_loss: 0.3671 - val_accuracy: 0.8627\n",
            "Epoch 18/30\n",
            "1563/1563 [==============================] - 58s 37ms/step - loss: 0.4092 - accuracy: 0.8366 - val_loss: 0.3364 - val_accuracy: 0.8730\n",
            "Epoch 19/30\n",
            "1563/1563 [==============================] - 65s 42ms/step - loss: 0.3952 - accuracy: 0.8423 - val_loss: 0.3143 - val_accuracy: 0.8836\n",
            "Epoch 20/30\n",
            "1563/1563 [==============================] - 59s 38ms/step - loss: 0.3806 - accuracy: 0.8498 - val_loss: 0.2993 - val_accuracy: 0.8888\n",
            "Epoch 21/30\n",
            "1563/1563 [==============================] - 59s 38ms/step - loss: 0.3659 - accuracy: 0.8556 - val_loss: 0.2915 - val_accuracy: 0.8936\n",
            "Epoch 22/30\n",
            "1563/1563 [==============================] - 59s 38ms/step - loss: 0.3548 - accuracy: 0.8614 - val_loss: 0.2878 - val_accuracy: 0.8981\n",
            "Epoch 23/30\n",
            "1563/1563 [==============================] - 61s 39ms/step - loss: 0.3427 - accuracy: 0.8668 - val_loss: 0.2646 - val_accuracy: 0.9037\n",
            "Epoch 24/30\n",
            "1563/1563 [==============================] - 63s 40ms/step - loss: 0.3304 - accuracy: 0.8719 - val_loss: 0.2570 - val_accuracy: 0.9057\n",
            "Epoch 25/30\n",
            "1563/1563 [==============================] - 58s 37ms/step - loss: 0.3206 - accuracy: 0.8762 - val_loss: 0.2479 - val_accuracy: 0.9109\n",
            "Epoch 26/30\n",
            "1563/1563 [==============================] - 58s 37ms/step - loss: 0.3098 - accuracy: 0.8800 - val_loss: 0.2439 - val_accuracy: 0.9156\n",
            "Epoch 27/30\n",
            "1563/1563 [==============================] - 60s 39ms/step - loss: 0.3040 - accuracy: 0.8828 - val_loss: 0.2379 - val_accuracy: 0.9139\n",
            "Epoch 28/30\n",
            "1563/1563 [==============================] - 65s 41ms/step - loss: 0.2933 - accuracy: 0.8868 - val_loss: 0.2310 - val_accuracy: 0.9184\n",
            "Epoch 29/30\n",
            "1563/1563 [==============================] - 58s 37ms/step - loss: 0.2854 - accuracy: 0.8906 - val_loss: 0.2182 - val_accuracy: 0.9190\n",
            "Epoch 30/30\n",
            "1563/1563 [==============================] - 58s 37ms/step - loss: 0.2776 - accuracy: 0.8939 - val_loss: 0.2021 - val_accuracy: 0.9278\n"
          ]
        }
      ]
    },
    {
      "cell_type": "markdown",
      "source": [
        "# 9. Visualizing and Evaluating the Results"
      ],
      "metadata": {
        "id": "Hpeq_iofn35E"
      }
    },
    {
      "cell_type": "code",
      "source": [
        "#Accuracy / Validation_Accuracy  and Loss / Validation_Loss Plot\n",
        "\n",
        "plot_performance(history=history1)"
      ],
      "metadata": {
        "execution": {
          "iopub.status.busy": "2023-04-07T11:08:33.347953Z",
          "iopub.execute_input": "2023-04-07T11:08:33.348416Z",
          "iopub.status.idle": "2023-04-07T11:08:33.682490Z",
          "shell.execute_reply.started": "2023-04-07T11:08:33.348377Z",
          "shell.execute_reply": "2023-04-07T11:08:33.681216Z"
        },
        "trusted": true,
        "colab": {
          "base_uri": "https://localhost:8080/",
          "height": 310
        },
        "id": "7VyiqmxNn35E",
        "outputId": "09cce114-8055-4c3e-d636-be817cd41146"
      },
      "execution_count": null,
      "outputs": [
        {
          "output_type": "display_data",
          "data": {
            "text/plain": [
              "<Figure size 2000x500 with 2 Axes>"
            ],
            "image/png": "[encoded data removed]"
          },
          "metadata": {}
        }
      ]
    },
    {
      "cell_type": "code",
      "source": [
        "# Final evaluation of the model\n",
        "\n",
        "scores = model.evaluate(X_test, y_test, verbose=1)\n",
        "print(\"Accuracy: %.2f%%\" % (scores[1]*100))"
      ],
      "metadata": {
        "execution": {
          "iopub.status.busy": "2023-04-07T11:08:33.683992Z",
          "iopub.execute_input": "2023-04-07T11:08:33.684601Z",
          "iopub.status.idle": "2023-04-07T11:08:35.515747Z",
          "shell.execute_reply.started": "2023-04-07T11:08:33.684556Z",
          "shell.execute_reply": "2023-04-07T11:08:35.514830Z"
        },
        "trusted": true,
        "colab": {
          "base_uri": "https://localhost:8080/"
        },
        "id": "o9NSpn1Rn35E",
        "outputId": "61118540-e42a-4e3c-cced-6d456f23a8fe"
      },
      "execution_count": null,
      "outputs": [
        {
          "output_type": "stream",
          "name": "stdout",
          "text": [
            "782/782 [==============================] - 4s 5ms/step - loss: 1.4411 - accuracy: 0.6290\n",
            "Accuracy: 62.90%\n"
          ]
        }
      ]
    },
    {
      "cell_type": "markdown",
      "source": [
        "# 10. Saving the model"
      ],
      "metadata": {
        "id": "yfP0gQtSn35E"
      }
    },
    {
      "cell_type": "code",
      "source": [
        "model.save('5_Classes_Classification_Movie_Reviews_CNN.h5')"
      ],
      "metadata": {
        "execution": {
          "iopub.status.busy": "2023-04-07T11:08:35.518708Z",
          "iopub.execute_input": "2023-04-07T11:08:35.518987Z",
          "iopub.status.idle": "2023-04-07T11:08:35.583369Z",
          "shell.execute_reply.started": "2023-04-07T11:08:35.518961Z",
          "shell.execute_reply": "2023-04-07T11:08:35.582436Z"
        },
        "trusted": true,
        "colab": {
          "base_uri": "https://localhost:8080/"
        },
        "id": "VvwqcwEZn35F",
        "outputId": "df8a65bb-c821-4e12-bbce-65dcfbbbe961"
      },
      "execution_count": null,
      "outputs": [
        {
          "output_type": "stream",
          "name": "stderr",
          "text": [
            "/usr/local/lib/python3.10/dist-packages/keras/src/engine/training.py:3103: UserWarning: You are saving your model as an HDF5 file via `model.save()`. This file format is considered legacy. We recommend using instead the native Keras format, e.g. `model.save('my_model.keras')`.\n",
            "  saving_api.save_model(\n"
          ]
        }
      ]
    },
    {
      "cell_type": "markdown",
      "source": [
        "If you have any questions, feel free to contact me at yassiracharki@gmail.com or on Kaggle (:"
      ],
      "metadata": {
        "id": "07PJ8PI2n35F"
      }
    }
  ]
}